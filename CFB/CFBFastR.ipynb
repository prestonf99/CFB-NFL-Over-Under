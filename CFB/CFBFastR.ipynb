{
 "cells": [
  {
   "cell_type": "markdown",
   "metadata": {},
   "source": [
    "## CFB FastR"
   ]
  },
  {
   "cell_type": "code",
   "execution_count": 2,
   "metadata": {
    "vscode": {
     "languageId": "r"
    }
   },
   "outputs": [],
   "source": [
    "library(cfbfastR)\n",
    "library(tidyverse)\n",
    "library(ggrepel)"
   ]
  },
  {
   "cell_type": "code",
   "execution_count": 4,
   "metadata": {
    "vscode": {
     "languageId": "r"
    }
   },
   "outputs": [],
   "source": [
    "thirteen <- cfbfastR::cfbd_betting_lines(year = 2013)\n",
    "fourteen <- cfbfastR::cfbd_betting_lines(year = 2014)\n",
    "fifteen <- cfbfastR::cfbd_betting_lines(year = 2015)\n",
    "sixteen <- cfbfastR::cfbd_betting_lines(year = 2016)\n",
    "seventeen <- cfbfastR::cfbd_betting_lines(year = 2017)\n",
    "eighteen <- cfbfastR::cfbd_betting_lines(year = 2018)\n",
    "nineteen <- cfbfastR::cfbd_betting_lines(year = 2019)\n",
    "twenty <- cfbfastR::cfbd_betting_lines(year = 2020)\n",
    "twenty_one <- cfbfastR::cfbd_betting_lines(year = 2021)\n",
    "twenty_two <- cfbfastR::cfbd_betting_lines(year = 2022)\n",
    "twenty_three <- cfbfastR::cfbd_betting_lines(year = 2023)\n",
    "twenty_four <- cfbfastR::cfbd_betting_lines(year = 2024)\n"
   ]
  },
  {
   "cell_type": "code",
   "execution_count": 5,
   "metadata": {
    "vscode": {
     "languageId": "r"
    }
   },
   "outputs": [],
   "source": [
    "data <- bind_rows(\n",
    "  thirteen, fourteen, fifteen, sixteen, seventeen, \n",
    "  eighteen, nineteen, twenty, twenty_one, twenty_two, twenty_three,\n",
    "  twenty_four\n",
    ")"
   ]
  },
  {
   "cell_type": "code",
   "execution_count": 6,
   "metadata": {
    "vscode": {
     "languageId": "r"
    }
   },
   "outputs": [],
   "source": [
    "write_csv(data, \"C:/Users/prest/Desktop/NFL/Over Under/CFB OU/cfb_hist.csv\")"
   ]
  },
  {
   "cell_type": "code",
   "execution_count": null,
   "metadata": {
    "vscode": {
     "languageId": "r"
    }
   },
   "outputs": [],
   "source": []
  }
 ],
 "metadata": {
  "kernelspec": {
   "display_name": "R",
   "language": "R",
   "name": "ir"
  },
  "language_info": {
   "codemirror_mode": "r",
   "file_extension": ".r",
   "mimetype": "text/x-r-source",
   "name": "R",
   "pygments_lexer": "r",
   "version": "4.4.1"
  }
 },
 "nbformat": 4,
 "nbformat_minor": 4
}
